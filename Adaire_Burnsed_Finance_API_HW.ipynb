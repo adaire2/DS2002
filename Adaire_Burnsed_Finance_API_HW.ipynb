{
  "nbformat": 4,
  "nbformat_minor": 0,
  "metadata": {
    "colab": {
      "provenance": []
    },
    "kernelspec": {
      "name": "python3",
      "display_name": "Python 3"
    },
    "language_info": {
      "name": "python"
    }
  },
  "cells": [
    {
      "cell_type": "code",
      "execution_count": null,
      "metadata": {
        "id": "kAaHxfIoaKHU"
      },
      "outputs": [],
      "source": [
        "import os\n",
        "import json\n",
        "import pprint\n",
        "import requests\n",
        "import requests.exceptions\n",
        "import pandas as pd\n",
        "import time"
      ]
    },
    {
      "cell_type": "code",
      "source": [
        "API_KEY = \"insert your API Key here\""
      ],
      "metadata": {
        "id": "YcAy6zocgIqz"
      },
      "execution_count": null,
      "outputs": []
    },
    {
      "cell_type": "code",
      "source": [
        "url = f\"https://www.alphavantage.co/query?function=TOP_GAINERS_LOSERS&apikey={API_KEY}\"\n",
        "response = requests.get(url).json()\n",
        "print(response)  # Print full response"
      ],
      "metadata": {
        "colab": {
          "base_uri": "https://localhost:8080/"
        },
        "id": "MzgNzDhZhs3i",
        "outputId": "4adb28bc-2252-4a60-ddee-9870e32ced7c"
      },
      "execution_count": null,
      "outputs": [
        {
          "output_type": "stream",
          "name": "stdout",
          "text": [
            "{'Information': 'Thank you for using Alpha Vantage! Our standard API rate limit is 25 requests per day. Please subscribe to any of the premium plans at https://www.alphavantage.co/premium/ to instantly remove all daily rate limits.'}\n"
          ]
        }
      ]
    },
    {
      "cell_type": "code",
      "source": [
        "#function to fetch stock data\n",
        "def get_stock_data(symbols):\n",
        "    stock_list = []\n",
        "\n",
        "    for symbol in symbols:\n",
        "        url = f\"https://www.alphavantage.co/query?function=GLOBAL_QUOTE&symbol={symbol}&apikey={API_KEY}\"\n",
        "        response = requests.get(url).json()\n",
        "\n",
        "        try:\n",
        "            stock_info = response[\"Global Quote\"]\n",
        "            stock_list.append({\n",
        "                \"Stock Ticker\": stock_info[\"01. symbol\"],\n",
        "                \"Company\": symbol,  # Alpha Vantage doesn't provide company names\n",
        "                \"Current Market Price\": f\"${float(stock_info['05. price']):,.2f}\"\n",
        "            })\n",
        "        except KeyError:\n",
        "            print(f\"Error: Could not fetch data for {symbol}\")\n",
        "\n",
        "        time.sleep(1)  # Avoid rate limit\n",
        "\n",
        "    return pd.DataFrame(stock_list)"
      ],
      "metadata": {
        "id": "TBFbxVi0gQbF"
      },
      "execution_count": null,
      "outputs": []
    },
    {
      "cell_type": "code",
      "source": [
        "#Get user input\n",
        "symbols = input(\"Enter at least two stock symbols (comma-separated): \").split(\",\")\n",
        "\n",
        "#Fetch and display basic stock data\n",
        "df_basic = get_stock_data(symbols)\n",
        "print(\"\\n Basic Stock Data:\\n\", df_basic)"
      ],
      "metadata": {
        "colab": {
          "base_uri": "https://localhost:8080/"
        },
        "id": "WkalI4ZHmgEu",
        "outputId": "773f397b-30cc-46e1-962b-6374bcc0541c"
      },
      "execution_count": null,
      "outputs": [
        {
          "output_type": "stream",
          "name": "stdout",
          "text": [
            "Enter at least two stock symbols (comma-separated): NVDA,AMZN\n",
            "Error: Could not fetch data for NVDA\n",
            "Error: Could not fetch data for AMZN\n",
            "\n",
            " Basic Stock Data:\n",
            " Empty DataFrame\n",
            "Columns: []\n",
            "Index: []\n"
          ]
        }
      ]
    },
    {
      "cell_type": "code",
      "source": [
        "#function to fetch additional stock details\n",
        "def get_stock_details(symbol, module):\n",
        "    url = f\"https://www.alphavantage.co/query?function=OVERVIEW&symbol={symbol}&apikey={API_KEY}\"\n",
        "    response = requests.get(url).json()\n",
        "\n",
        "    try:\n",
        "        if module == \"52 Week High\":\n",
        "            return response[\"52WeekHigh\"]\n",
        "        elif module == \"52 Week Low\":\n",
        "            return response[\"52WeekLow\"]\n",
        "        elif module == \"Return on Assets (ROA)\":\n",
        "            return response[\"ReturnOnAssetsTTM\"]\n",
        "    except KeyError:\n",
        "        return \"N/A\"\n",
        "\n",
        "#Fetch additional details for a chosen stock\n",
        "chosen_stock = input(\"\\nEnter a stock symbol to fetch additional details: \").upper()\n",
        "chosen_module = input(\"Choose a module (52 Week High, 52 Week Low, Return on Assets (ROA)): \")\n",
        "detail = get_stock_details(chosen_stock, chosen_module)\n",
        "print(f\"\\n {chosen_module} for {chosen_stock}: {detail}\")\n",
        "\n",
        "# Create and display a DataFrame with the result\n",
        "df_result = pd.DataFrame({\n",
        "    'Stock Ticker': [chosen_stock],\n",
        "    'Module': [chosen_module],\n",
        "    'Value': [detail]\n",
        "})\n",
        "\n",
        "print('\\nAdditional Stock Data:')\n",
        "print(df_result)"
      ],
      "metadata": {
        "colab": {
          "base_uri": "https://localhost:8080/"
        },
        "id": "x_S5KQPzgVPA",
        "outputId": "75049913-8b7b-4945-e92b-60665c7a1f52"
      },
      "execution_count": null,
      "outputs": [
        {
          "output_type": "stream",
          "name": "stdout",
          "text": [
            "\n",
            "Enter a stock symbol to fetch additional details: GOOGL\n",
            "Choose a module (52 Week High, 52 Week Low, Return on Assets (ROA)): 52 Week High\n",
            "\n",
            " 52 Week High for GOOGL: 207.05\n",
            "\n",
            "Additional Stock Data:\n",
            "  Stock Ticker        Module   Value\n",
            "0        GOOGL  52 Week High  207.05\n"
          ]
        }
      ]
    },
    {
      "cell_type": "code",
      "source": [
        "def get_stock_data_for_symbol(symbol):\n",
        "    # Call GLOBAL_QUOTE endpoint to get current price\n",
        "    url_quote = f'https://www.alphavantage.co/query?function=GLOBAL_QUOTE&symbol={symbol}&apikey={API_KEY}'\n",
        "    response_quote = requests.get(url_quote).json()\n",
        "    try:\n",
        "        quote = response_quote['Global Quote']\n",
        "        current_price = float(quote['05. price'])\n",
        "    except KeyError:\n",
        "        current_price = None\n",
        "\n",
        "    # Call OVERVIEW endpoint to get additional details (company name, 52-week high/low)\n",
        "    url_overview = f'https://www.alphavantage.co/query?function=OVERVIEW&symbol={symbol}&apikey={API_KEY}'\n",
        "    response_overview = requests.get(url_overview).json()\n",
        "    try:\n",
        "        company = response_overview['Name']\n",
        "        week_high = response_overview['52WeekHigh']\n",
        "        week_low = response_overview['52WeekLow']\n",
        "    except KeyError:\n",
        "        company = symbol  # fallback\n",
        "        week_high = None\n",
        "        week_low = None\n",
        "\n",
        "    return {\n",
        "        'Stock Ticker': symbol,\n",
        "        'Company': company,\n",
        "        'Current Market Price': current_price,\n",
        "        '52 Week High': week_high,\n",
        "        '52 Week Low': week_low\n",
        "    }\n",
        "\n",
        "# I can't figure our how to get the API that I chose to really try for tredning stocks in the whole list of possibilities...\n",
        "# I have also hit the free rate limit of alpha vantage unfortunately so I can no longer see if my code is working... I think this is why I am returning errors\n",
        "symbols = ['AAPL', 'MSFT', 'GOOGL', 'AMZN', 'TSLA', 'NVDA', 'META', 'NFLX', 'BRK.B', 'JNJ', 'F', 'WBD', 'AAL','T','RKLB','RDDT']\n",
        "\n",
        "stock_data = []\n",
        "for symbol in symbols:\n",
        "    data = get_stock_data_for_symbol(symbol)\n",
        "    if data['Current Market Price'] is not None:\n",
        "        stock_data.append(data)\n",
        "    else:\n",
        "        print(f'Error fetching data for {symbol}')\n",
        "    time.sleep(12)  # Delay to respect API rate limits\n",
        "\n",
        "# Convert the results to a DataFrame\n",
        "df_stocks = pd.DataFrame(stock_data)\n",
        "\n",
        "# Sort the DataFrame by current price (highest first) and pick the top 5\n",
        "df_trending = df_stocks.sort_values(by='Current Market Price', ascending=False).head(5)\n",
        "\n",
        "# Format the current price as currency for display\n",
        "df_trending['Current Market Price'] = df_trending['Current Market Price'].apply(lambda x: f'${x:,.2f}')\n",
        "\n",
        "print('\\n Trending Stocks (Top 5 by Current Price):\\n')\n",
        "print(df_trending[['Stock Ticker', 'Company', 'Current Market Price', '52 Week High', '52 Week Low']])"
      ],
      "metadata": {
        "colab": {
          "base_uri": "https://localhost:8080/"
        },
        "id": "nQ3u8hu5pjCB",
        "outputId": "75580326-cb78-4a49-8762-efa03c3f22d3"
      },
      "execution_count": null,
      "outputs": [
        {
          "output_type": "stream",
          "name": "stdout",
          "text": [
            "Error fetching data for TSLA\n",
            "Error fetching data for NVDA\n",
            "Error fetching data for META\n",
            "Error fetching data for NFLX\n",
            "Error fetching data for BRK.B\n",
            "Error fetching data for JNJ\n",
            "Error fetching data for F\n",
            "Error fetching data for WBD\n",
            "Error fetching data for AAL\n",
            "Error fetching data for T\n",
            "Error fetching data for RKLB\n",
            "Error fetching data for RDDT\n",
            "\n",
            " Trending Stocks (Top 5 by Current Price):\n",
            "\n",
            "  Stock Ticker                Company Current Market Price 52 Week High  \\\n",
            "1         MSFT  Microsoft Corporation              $399.73       465.64   \n",
            "0         AAPL              Apple Inc              $240.36       259.81   \n",
            "3         AMZN                   AMZN              $214.35         None   \n",
            "2        GOOGL   Alphabet Inc Class A              $172.73       207.05   \n",
            "\n",
            "  52 Week Low  \n",
            "1      383.35  \n",
            "0      163.31  \n",
            "3        None  \n",
            "2      130.19  \n"
          ]
        }
      ]
    }
  ]
}